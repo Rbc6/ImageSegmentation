{
 "cells": [
  {
   "cell_type": "code",
   "execution_count": 17,
   "id": "8b077f34-0e22-4aa2-b4cc-fd4295f3fa1f",
   "metadata": {},
   "outputs": [],
   "source": [
    "import tensorflow as tf\n",
    "import tensorflow_datasets as tfds\n",
    "import numpy as np\n",
    "import matplotlib.pyplot as plt"
   ]
  },
  {
   "cell_type": "code",
   "execution_count": 22,
   "id": "9e320e2f-407d-408a-be0b-2351ec51072f",
   "metadata": {},
   "outputs": [
    {
     "ename": "ImportError",
     "evalue": "cannot import name 'dataset_builder_registry' from 'tensorflow_datasets.core' (C:\\Users\\ranim\\AppData\\Local\\Programs\\Python\\Python312\\Lib\\site-packages\\tensorflow_datasets\\core\\__init__.py)",
     "output_type": "error",
     "traceback": [
      "\u001b[1;31m---------------------------------------------------------------------------\u001b[0m",
      "\u001b[1;31mImportError\u001b[0m                               Traceback (most recent call last)",
      "Cell \u001b[1;32mIn[22], line 2\u001b[0m\n\u001b[0;32m      1\u001b[0m \u001b[38;5;28;01mimport\u001b[39;00m \u001b[38;5;21;01mos\u001b[39;00m\n\u001b[1;32m----> 2\u001b[0m \u001b[38;5;28;01mfrom\u001b[39;00m \u001b[38;5;21;01mtensorflow_datasets\u001b[39;00m\u001b[38;5;21;01m.\u001b[39;00m\u001b[38;5;21;01mcore\u001b[39;00m \u001b[38;5;28;01mimport\u001b[39;00m dataset_builder_registry\n\u001b[0;32m      4\u001b[0m \u001b[38;5;66;03m# Update the registry for Cityscapes dataset\u001b[39;00m\n\u001b[0;32m      5\u001b[0m dataset_builder_registry\u001b[38;5;241m.\u001b[39mupdate(\n\u001b[0;32m      6\u001b[0m     \u001b[38;5;124m\"\u001b[39m\u001b[38;5;124mcityscapes\u001b[39m\u001b[38;5;124m\"\u001b[39m,\n\u001b[0;32m      7\u001b[0m     tfds\u001b[38;5;241m.\u001b[39mcore\u001b[38;5;241m.\u001b[39mDatasetInfo(\n\u001b[1;32m   (...)\u001b[0m\n\u001b[0;32m     19\u001b[0m     },\n\u001b[0;32m     20\u001b[0m )\n",
      "\u001b[1;31mImportError\u001b[0m: cannot import name 'dataset_builder_registry' from 'tensorflow_datasets.core' (C:\\Users\\ranim\\AppData\\Local\\Programs\\Python\\Python312\\Lib\\site-packages\\tensorflow_datasets\\core\\__init__.py)"
     ]
    }
   ],
   "source": [
    "import os\n",
    "from tensorflow_datasets.core import dataset_builder_registry\n",
    "\n",
    "# Update the registry for Cityscapes dataset\n",
    "dataset_builder_registry.update(\n",
    "    \"cityscapes\",\n",
    "    tfds.core.DatasetInfo(\n",
    "        builder=\"cityscapes\",\n",
    "        description=\"Cityscapes dataset\",\n",
    "        features=tfds.features.FeaturesDict({\n",
    "            \"image\": tfds.features.Image(shape=(1024, 2048, 3)),\n",
    "            \"label\": tfds.features.Image(shape=(1024, 2048, 1)),\n",
    "        }),\n",
    "        citation=\"Y1:0\",\n",
    "    ),\n",
    "    builder_kwargs={\n",
    "        \"data_dir\": os.path.dirname(os.path.abspath(__file__)),\n",
    "        \"split\": \"train\",\n",
    "    },\n",
    ")\n",
    "\n",
    "# Clear the cache to ensure the new configuration is used\n",
    "tfds.reset_retrieval_cache()\n"
   ]
  },
  {
   "cell_type": "code",
   "execution_count": null,
   "id": "81a08e24-99d5-4996-a7a5-0003dd990fd1",
   "metadata": {},
   "outputs": [],
   "source": []
  }
 ],
 "metadata": {
  "kernelspec": {
   "display_name": "Python 3 (ipykernel)",
   "language": "python",
   "name": "python3"
  },
  "language_info": {
   "codemirror_mode": {
    "name": "ipython",
    "version": 3
   },
   "file_extension": ".py",
   "mimetype": "text/x-python",
   "name": "python",
   "nbconvert_exporter": "python",
   "pygments_lexer": "ipython3",
   "version": "3.12.2"
  }
 },
 "nbformat": 4,
 "nbformat_minor": 5
}
